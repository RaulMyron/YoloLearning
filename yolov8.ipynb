{
 "cells": [
  {
   "cell_type": "code",
   "execution_count": 28,
   "id": "927df811-357e-497b-bf55-fa9b46e41379",
   "metadata": {},
   "outputs": [],
   "source": [
    "import os\n",
    "import cv2\n",
    "import matplotlib.pyplot as plt\n",
    "from ultralytics import YOLO\n"
   ]
  },
  {
   "cell_type": "code",
   "execution_count": 23,
   "id": "75e0e26b-aafa-4688-bba4-dab09ffe2a65",
   "metadata": {},
   "outputs": [],
   "source": [
    "def resize_image(img, base_width=300):\n",
    "    w_percent = (base_width / float(img.size[0]))\n",
    "    h_size = int((float(img.size[1]) * float(w_percent)))\n",
    "    return img.resize((base_width, h_size), Image.LANCZOS)"
   ]
  },
  {
   "cell_type": "code",
   "execution_count": 24,
   "id": "5b6ae2d0-3684-4f90-aa38-7f56d0623a2c",
   "metadata": {},
   "outputs": [],
   "source": [
    "def load_yolo_model(weights_path, config_path):\n",
    "    net = cv2.dnn.readNet(weights_path, config_path)\n",
    "    layer_names = net.getLayerNames()\n",
    "    output_layers = [layer_names[i[0] - 1] for i in net.getUnconnectedOutLayers()]\n",
    "    return net, output_layers"
   ]
  },
  {
   "cell_type": "code",
   "execution_count": 46,
   "id": "1097d5b0-fe37-4d7d-82ad-80dd46947c27",
   "metadata": {},
   "outputs": [],
   "source": [
    "def detect_and_draw_cats(img_path, model):\n",
    "    results = model(img_path)  # Perform object detection\n",
    "    result_img = cv2.imread(img_path)  # Read the original image\n",
    "\n",
    "    for result in results[0].boxes.data.tolist():\n",
    "        x1, y1, x2, y2, conf, cls_id = result[:6]\n",
    "        if model.names[int(cls_id)] == 'cat':\n",
    "            label = f\"{model.names[int(cls_id)]} {conf:.2f}\"\n",
    "            cv2.rectangle(result_img, (int(x1), int(y1)), (int(x2), int(y2)), (0, 255, 0), 2)\n",
    "            cv2.putText(result_img, label, (int(x1), int(y1) - 10), cv2.FONT_HERSHEY_SIMPLEX, 1.5, (0, 255, 0), 3)\n",
    "    \n",
    "    return result_img"
   ]
  },
  {
   "cell_type": "code",
   "execution_count": 60,
   "id": "745c41ad-ac3f-4b6e-9165-7ef4d15730fc",
   "metadata": {},
   "outputs": [
    {
     "name": "stdout",
     "output_type": "stream",
     "text": [
      "\n",
      "image 1/1 C:\\Users\\raulm\\OneDrive\\Documents\\dev\\YoloLearning\\src\\mel.jpg: 640x480 1 car, 1 dog, 73.7ms\n",
      "Speed: 4.0ms preprocess, 73.7ms inference, 2.0ms postprocess per image at shape (1, 3, 640, 480)\n",
      "\n",
      "image 1/1 C:\\Users\\raulm\\OneDrive\\Documents\\dev\\YoloLearning\\src\\mel.jpg: 640x480 1 car, 1 dog, 78.3ms\n",
      "Speed: 3.0ms preprocess, 78.3ms inference, 1.0ms postprocess per image at shape (1, 3, 640, 480)\n",
      "\n",
      "image 1/1 C:\\Users\\raulm\\OneDrive\\Documents\\dev\\YoloLearning\\src\\mel.jpg: 640x480 1 car, 1 dog, 73.1ms\n",
      "Speed: 3.0ms preprocess, 73.1ms inference, 2.0ms postprocess per image at shape (1, 3, 640, 480)\n",
      "\n",
      "image 1/1 C:\\Users\\raulm\\OneDrive\\Documents\\dev\\YoloLearning\\src\\mel.jpg: 640x480 1 car, 1 dog, 81.7ms\n",
      "Speed: 2.5ms preprocess, 81.7ms inference, 2.0ms postprocess per image at shape (1, 3, 640, 480)\n",
      "\n",
      "image 1/1 C:\\Users\\raulm\\OneDrive\\Documents\\dev\\YoloLearning\\src\\mel.jpg: 640x480 1 car, 1 dog, 105.8ms\n",
      "Speed: 3.0ms preprocess, 105.8ms inference, 2.0ms postprocess per image at shape (1, 3, 640, 480)\n",
      "\n",
      "image 1/1 C:\\Users\\raulm\\OneDrive\\Documents\\dev\\YoloLearning\\src\\mel.jpg: 640x480 1 car, 1 dog, 78.7ms\n",
      "Speed: 3.0ms preprocess, 78.7ms inference, 2.0ms postprocess per image at shape (1, 3, 640, 480)\n",
      "\n",
      "image 1/1 C:\\Users\\raulm\\OneDrive\\Documents\\dev\\YoloLearning\\src\\mel.jpg: 640x480 1 car, 1 dog, 89.0ms\n",
      "Speed: 2.0ms preprocess, 89.0ms inference, 2.0ms postprocess per image at shape (1, 3, 640, 480)\n",
      "\n",
      "image 1/1 C:\\Users\\raulm\\OneDrive\\Documents\\dev\\YoloLearning\\src\\mel.jpg: 640x480 1 car, 1 dog, 78.7ms\n",
      "Speed: 2.5ms preprocess, 78.7ms inference, 1.5ms postprocess per image at shape (1, 3, 640, 480)\n",
      "\n",
      "image 1/1 C:\\Users\\raulm\\OneDrive\\Documents\\dev\\YoloLearning\\src\\mel.jpg: 640x480 1 car, 1 dog, 80.2ms\n",
      "Speed: 3.0ms preprocess, 80.2ms inference, 2.0ms postprocess per image at shape (1, 3, 640, 480)\n",
      "\n",
      "image 1/1 C:\\Users\\raulm\\OneDrive\\Documents\\dev\\YoloLearning\\src\\mel.jpg: 640x480 1 car, 1 dog, 79.2ms\n",
      "Speed: 2.0ms preprocess, 79.2ms inference, 2.0ms postprocess per image at shape (1, 3, 640, 480)\n",
      "\n",
      "image 1/1 C:\\Users\\raulm\\OneDrive\\Documents\\dev\\YoloLearning\\src\\mel.jpg: 640x480 1 car, 1 dog, 70.7ms\n",
      "Speed: 4.0ms preprocess, 70.7ms inference, 2.5ms postprocess per image at shape (1, 3, 640, 480)\n"
     ]
    }
   ],
   "source": [
    "model = YOLO('yolov8n.pt')\n",
    "\n",
    "images_path = 'C:/Users/raulm/OneDrive/Documents/dev/YoloLearning/src/'\n",
    "output_path = 'C:/Users/raulm/OneDrive/Documents/dev/YoloLearning/src/yolov8/'\n",
    "\n",
    "# Create the output directory if it doesn't exist\n",
    "os.makedirs(output_path, exist_ok=True)\n",
    "\n",
    "# Read images from the directory and perform object detection\n",
    "for image_name in os.listdir(images_path):\n",
    "    if image_name.endswith(('.png', '.jpg', '.jpeg')):\n",
    "        \n",
    "        # Perform detection and draw boxes\n",
    "        result_img = detect_and_draw_cats(img_path, model)\n",
    "        \n",
    "        # Save the result image to the output directory\n",
    "        output_img_path = os.path.join(output_path, image_name)\n",
    "        cv2.imwrite(output_img_path, result_img)\n",
    "\n",
    "        # Optionally, display the image (remove if not needed)\n",
    "        img_rgb = cv2.cvtColor(result_img, cv2.COLOR_BGR2RGB)\n",
    "        plt.figure(figsize=(10, 10))\n",
    "        plt.imshow(img_rgb)\n",
    "        plt.axis('off')\n",
    "        plt.show()\n",
    "        plt.close()"
   ]
  },
  {
   "cell_type": "code",
   "execution_count": 68,
   "id": "b3983f2c-00d2-45ab-b88f-639d8fdfbc30",
   "metadata": {},
   "outputs": [
    {
     "name": "stdout",
     "output_type": "stream",
     "text": [
      "\n",
      "image 1/1 C:\\Users\\raulm\\OneDrive\\Documents\\dev\\YoloLearning\\src\\lis.png: 640x384 1 dog, 1 teddy bear, 75.6ms\n",
      "Speed: 1.0ms preprocess, 75.6ms inference, 1.0ms postprocess per image at shape (1, 3, 640, 384)\n",
      "Detections:\n",
      "dog: 0.56%\n",
      "teddy bear: 0.33%\n"
     ]
    }
   ],
   "source": [
    "def detect_and_draw(img_path, model):\n",
    "    results = model(img_path)  # Perform object detection\n",
    "    result_img = cv2.imread(img_path)  # Read the original image\n",
    "\n",
    "    detections = []\n",
    "    for result in results[0].boxes.data.tolist():\n",
    "        x1, y1, x2, y2, conf, cls_id = result[:6]\n",
    "        label = f\"{model.names[int(cls_id)]} {conf:.2f}\"\n",
    "        detections.append((model.names[int(cls_id)], conf))\n",
    "        cv2.rectangle(result_img, (int(x1), int(y1)), (int(x2), int(y2)), (0, 255, 0), 2)\n",
    "        cv2.putText(result_img, label, (int(x1), int(y1) - 10), cv2.FONT_HERSHEY_SIMPLEX, 1.5, (0, 255, 0), 3)\n",
    "    \n",
    "    return result_img, detections\n",
    "\n",
    "output_path = 'C:/Users/raulm/OneDrive/Documents/dev/YoloLearning/src/yolov8/'\n",
    "output_img_name = 'lis_detected.jpg'  # New name for the saved image\n",
    "\n",
    "# Create the output directory if it doesn't exist\n",
    "# Perform detection and draw boxes for all detected objects\n",
    "result_img, detections  = detect_and_draw('src/lis.png', model)\n",
    "\n",
    "# Save the result image to the output directory\n",
    "output_img_path = os.path.join(output_path, output_img_name)\n",
    "cv2.imwrite(output_img_path, result_img)\n",
    "\n",
    "# Optionally display the image\n",
    "img_rgb = cv2.cvtColor(result_img, cv2.COLOR_BGR2RGB)\n",
    "plt.figure(figsize=(10, 10))\n",
    "plt.imshow(img_rgb)\n",
    "plt.axis('off')\n",
    "plt.show()\n",
    "plt.close()\n",
    "\n",
    "print(\"Detections:\")\n",
    "for label, conf in detections:\n",
    "    print(f\"{label}: {conf:.2f}%\")"
   ]
  },
  {
   "cell_type": "code",
   "execution_count": null,
   "id": "541bcee7-9181-43e6-80f9-ae392557f704",
   "metadata": {},
   "outputs": [],
   "source": []
  }
 ],
 "metadata": {
  "kernelspec": {
   "display_name": "Python 3 (ipykernel)",
   "language": "python",
   "name": "python3"
  },
  "language_info": {
   "codemirror_mode": {
    "name": "ipython",
    "version": 3
   },
   "file_extension": ".py",
   "mimetype": "text/x-python",
   "name": "python",
   "nbconvert_exporter": "python",
   "pygments_lexer": "ipython3",
   "version": "3.12.4"
  }
 },
 "nbformat": 4,
 "nbformat_minor": 5
}
